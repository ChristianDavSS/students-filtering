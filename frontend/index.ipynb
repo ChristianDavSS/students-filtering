{
 "cells": [
  {
   "cell_type": "code",
   "execution_count": null,
   "id": "9dcc7cbb",
   "metadata": {
    "vscode": {
     "languageId": "plaintext"
    }
   },
   "outputs": [],
   "source": [
    "// FUNCIÓN CORREGIDA: performChartSearch()\n",
    "function performChartSearch() {\n",
    "    const filterType = filterSelectChart.value;\n",
    "    const filterValue = valueSelectChart.value;\n",
    "\n",
    "    if (!filterType || !filterValue) {\n",
    "        alert('Por favor, selecciona una categoría y una opción para generar el gráfico.');\n",
    "        return;\n",
    "    }\n",
    "\n",
    "    showLoading();\n",
    "    \n",
    "    setTimeout(() => {\n",
    "        let filteredData = mockData;\n",
    "        \n",
    "        // Aplicar el filtro según la categoría y el valor seleccionado\n",
    "        if (filterType === 'facultad' && filterValue) {\n",
    "            // Filtrado especial para facultades y sus carreras\n",
    "            if (filterValue in facultadesData) {\n",
    "                filteredData = mockData.filter(item => item.facultad === filterValue);\n",
    "            } else {\n",
    "                filteredData = []; // No hay datos para la facultad seleccionada si no está en mockData\n",
    "            }\n",
    "        } else {\n",
    "            filteredData = mockData.filter(item => \n",
    "                item[filterType] && item[filterType] === filterValue\n",
    "            );\n",
    "        }\n",
    "\n",
    "        if (filteredData.length > 0 && filterType === 'facultad') {\n",
    "            // Si se seleccionó una facultad, el gráfico debe ser de carreras de esa facultad\n",
    "            const subFilterType = 'carrera';\n",
    "            processAndDisplayChart(filteredData, subFilterType, filterValue);\n",
    "        } else if (filteredData.length > 0 && filterType !== 'facultad') {\n",
    "            // Si se seleccionó cualquier otra categoría, el gráfico se muestra de esa categoría\n",
    "            processAndDisplayChart(filteredData, filterType, filterValue);\n",
    "        } else {\n",
    "            loadingChart.style.display = 'none';\n",
    "            noChartData.innerHTML = `\n",
    "                <div style=\"font-size: 3em; opacity: 0.5; margin-bottom: 15px;\">🔍</div>\n",
    "                <p><strong>No se encontraron datos</strong></p>\n",
    "                <p>Intenta con otras opciones.</p>\n",
    "            `;\n",
    "            noChartData.style.display = 'block';\n",
    "        }\n",
    "        \n",
    "        chartsSection.scrollIntoView({ behavior: 'smooth' });\n",
    "    }, 800);\n",
    "}"
   ]
  }
 ],
 "metadata": {
  "language_info": {
   "name": "python"
  }
 },
 "nbformat": 4,
 "nbformat_minor": 5
}
